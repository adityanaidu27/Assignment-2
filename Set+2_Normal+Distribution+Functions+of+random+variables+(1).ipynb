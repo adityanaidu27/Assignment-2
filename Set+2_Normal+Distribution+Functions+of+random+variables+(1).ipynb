{
 "cells": [
  {
   "cell_type": "code",
   "execution_count": 2,
   "id": "45b9ad21",
   "metadata": {
    "ExecuteTime": {
     "end_time": "2022-12-20T05:24:25.658458Z",
     "start_time": "2022-12-20T05:24:12.273396Z"
    }
   },
   "outputs": [],
   "source": [
    "import pandas as pd\n",
    "import numpy as py \n",
    "from scipy import stats"
   ]
  },
  {
   "cell_type": "markdown",
   "id": "033969df",
   "metadata": {
    "ExecuteTime": {
     "end_time": "2022-12-19T17:47:13.523243Z",
     "start_time": "2022-12-19T17:47:13.508258Z"
    }
   },
   "source": [
    "# Q1 X=60minutes, meau=55, deviation=8"
   ]
  },
  {
   "cell_type": "code",
   "execution_count": 3,
   "id": "1f10accd",
   "metadata": {
    "ExecuteTime": {
     "end_time": "2022-12-20T05:24:25.705410Z",
     "start_time": "2022-12-20T05:24:25.667448Z"
    }
   },
   "outputs": [
    {
     "data": {
      "text/plain": [
       "0.26598552904870054"
      ]
     },
     "execution_count": 3,
     "metadata": {},
     "output_type": "execute_result"
    }
   ],
   "source": [
    "1-stats.norm.cdf(60,55,8)"
   ]
  },
  {
   "cell_type": "markdown",
   "id": "f3b19473",
   "metadata": {},
   "source": [
    "# Q2 A.\tMore employees at the processing center are older than 44 than between 38 and 44."
   ]
  },
  {
   "cell_type": "code",
   "execution_count": 4,
   "id": "221679f1",
   "metadata": {
    "ExecuteTime": {
     "end_time": "2022-12-20T05:24:25.862428Z",
     "start_time": "2022-12-20T05:24:25.710407Z"
    }
   },
   "outputs": [
    {
     "data": {
      "text/plain": [
       "0.8413447460685429"
      ]
     },
     "execution_count": 4,
     "metadata": {},
     "output_type": "execute_result"
    }
   ],
   "source": [
    "#Z score for 44\n",
    "stats.norm.cdf(44,38,6) "
   ]
  },
  {
   "cell_type": "code",
   "execution_count": 5,
   "id": "28920ac4",
   "metadata": {
    "ExecuteTime": {
     "end_time": "2022-12-20T05:24:26.001151Z",
     "start_time": "2022-12-20T05:24:25.869413Z"
    }
   },
   "outputs": [
    {
     "data": {
      "text/plain": [
       "0.5"
      ]
     },
     "execution_count": 5,
     "metadata": {},
     "output_type": "execute_result"
    }
   ],
   "source": [
    "#Z score for 38\n",
    "stats.norm.cdf(38,38,6)"
   ]
  },
  {
   "cell_type": "code",
   "execution_count": 6,
   "id": "882d6229",
   "metadata": {
    "ExecuteTime": {
     "end_time": "2022-12-20T05:24:26.123572Z",
     "start_time": "2022-12-20T05:24:26.007158Z"
    }
   },
   "outputs": [],
   "source": [
    "#Hence People between 38 & 44  age\n",
    "#84.13 - 50 = 34.13"
   ]
  },
  {
   "cell_type": "markdown",
   "id": "a0aaa815",
   "metadata": {},
   "source": [
    "# B.\tA training program for employees under the age of 30 at the center would be expected to attract about 36 employees."
   ]
  },
  {
   "cell_type": "code",
   "execution_count": 7,
   "id": "801eb424",
   "metadata": {
    "ExecuteTime": {
     "end_time": "2022-12-20T05:24:26.265245Z",
     "start_time": "2022-12-20T05:24:26.126570Z"
    }
   },
   "outputs": [
    {
     "data": {
      "text/plain": [
       "0.09121121972586788"
      ]
     },
     "execution_count": 7,
     "metadata": {},
     "output_type": "execute_result"
    }
   ],
   "source": [
    "stats.norm.cdf(30,38,6) "
   ]
  },
  {
   "cell_type": "markdown",
   "id": "0425f6b2",
   "metadata": {
    "ExecuteTime": {
     "end_time": "2022-12-20T05:30:14.459231Z",
     "start_time": "2022-12-20T05:30:14.437252Z"
    }
   },
   "source": [
    "# 4.\tLet X ~ N(100, 202). Find two values, a andb, symmetric about the mean, such that the probability of the random variable taking a value between them is 0.99. \n",
    "\n",
    "stats.norm.interval(0.99,100,20)"
   ]
  },
  {
   "cell_type": "code",
   "execution_count": 20,
   "id": "5d23d3e8",
   "metadata": {
    "ExecuteTime": {
     "end_time": "2022-12-20T11:03:23.021418Z",
     "start_time": "2022-12-20T11:03:22.989422Z"
    }
   },
   "outputs": [
    {
     "data": {
      "text/plain": [
       "(48.48341392902199, 151.516586070978)"
      ]
     },
     "execution_count": 20,
     "metadata": {},
     "output_type": "execute_result"
    }
   ],
   "source": [
    "import numpy as np\n",
    "from scipy import stats\n",
    "from scipy.stats import norm\n",
    "stats.norm.interval(0.99,100,20)"
   ]
  },
  {
   "cell_type": "markdown",
   "id": "a2987127",
   "metadata": {},
   "source": [
    "# Q5 Assignment-2-Set2-Q5 (Basic Statistic Level-2) "
   ]
  },
  {
   "cell_type": "markdown",
   "id": "1c5711f4",
   "metadata": {
    "ExecuteTime": {
     "end_time": "2022-12-20T10:54:32.192369Z",
     "start_time": "2022-12-20T10:54:32.176369Z"
    }
   },
   "source": [
    "#A \tSpecify a Rupee range (centered on the mean) such that it contains 95% probability for the annual profit of the company "
   ]
  },
  {
   "cell_type": "code",
   "execution_count": 18,
   "id": "2bf39638",
   "metadata": {
    "ExecuteTime": {
     "end_time": "2022-12-20T11:00:51.168835Z",
     "start_time": "2022-12-20T11:00:51.152835Z"
    }
   },
   "outputs": [
    {
     "name": "stdout",
     "output_type": "stream",
     "text": [
      "Mean Profit is Rs 540 Million\n"
     ]
    }
   ],
   "source": [
    "# Mean profits from two different divisions of a company = Mean1 + Mean2\n",
    "Mean = 5+7\n",
    "print('Mean Profit is Rs', Mean*45,'Million')"
   ]
  },
  {
   "cell_type": "code",
   "execution_count": 21,
   "id": "2811e8ee",
   "metadata": {
    "ExecuteTime": {
     "end_time": "2022-12-20T11:03:27.837270Z",
     "start_time": "2022-12-20T11:03:27.813265Z"
    }
   },
   "outputs": [
    {
     "name": "stdout",
     "output_type": "stream",
     "text": [
      "Standard Deviation is Rs 225.0 Million\n"
     ]
    }
   ],
   "source": [
    "# Variance of profits from two different divisions of a company = SD^2 = SD1^2 + SD2^2\n",
    "SD = np.sqrt((9)+(16))\n",
    "print('Standard Deviation is Rs', SD*45, 'Million')"
   ]
  },
  {
   "cell_type": "code",
   "execution_count": 23,
   "id": "a2e9cba0",
   "metadata": {
    "ExecuteTime": {
     "end_time": "2022-12-20T11:18:30.228726Z",
     "start_time": "2022-12-20T11:18:30.212728Z"
    }
   },
   "outputs": [
    {
     "name": "stdout",
     "output_type": "stream",
     "text": [
      "Range is Rs (99.00810347848784, 980.9918965215122) in Millions\n"
     ]
    }
   ],
   "source": [
    "# A. Specify a Rupee range (centered on the mean) such that it contains 95% probability for the annual profit of the company.\n",
    "#CL=alpha/2 95=5/2=0.95\n",
    "print('Range is Rs',(stats.norm.interval(0.95,540,225)),'in Millions')"
   ]
  },
  {
   "cell_type": "code",
   "execution_count": 25,
   "id": "79112fbc",
   "metadata": {
    "ExecuteTime": {
     "end_time": "2022-12-20T12:17:59.717968Z",
     "start_time": "2022-12-20T12:17:59.693967Z"
    }
   },
   "outputs": [
    {
     "data": {
      "text/plain": [
       "0.0477903522728147"
      ]
     },
     "execution_count": 25,
     "metadata": {},
     "output_type": "execute_result"
    }
   ],
   "source": [
    "#C \tWhich of the two divisions has a larger probability of making a loss in a given year?\n",
    "# Probability of Division 1 making a loss P(X<0)\n",
    "stats.norm.cdf(0,5,3)"
   ]
  },
  {
   "cell_type": "code",
   "execution_count": 26,
   "id": "8ce5279d",
   "metadata": {
    "ExecuteTime": {
     "end_time": "2022-12-20T12:18:18.579177Z",
     "start_time": "2022-12-20T12:18:18.563180Z"
    }
   },
   "outputs": [
    {
     "data": {
      "text/plain": [
       "0.040059156863817086"
      ]
     },
     "execution_count": 26,
     "metadata": {},
     "output_type": "execute_result"
    }
   ],
   "source": [
    "# Probability of Division 2 making a loss P(X<0)\n",
    "stats.norm.cdf(0,7,4)"
   ]
  },
  {
   "cell_type": "code",
   "execution_count": null,
   "id": "a98143ae",
   "metadata": {},
   "outputs": [],
   "source": []
  }
 ],
 "metadata": {
  "kernelspec": {
   "display_name": "Python 3 (ipykernel)",
   "language": "python",
   "name": "python3"
  },
  "language_info": {
   "codemirror_mode": {
    "name": "ipython",
    "version": 3
   },
   "file_extension": ".py",
   "mimetype": "text/x-python",
   "name": "python",
   "nbconvert_exporter": "python",
   "pygments_lexer": "ipython3",
   "version": "3.9.13"
  }
 },
 "nbformat": 4,
 "nbformat_minor": 5
}
